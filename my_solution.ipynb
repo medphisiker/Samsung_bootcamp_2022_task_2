{
  "cells": [
    {
      "cell_type": "markdown",
      "metadata": {
        "id": "6dfpNQmSYoLh"
      },
      "source": [
        "# Мое решение Задачи 2 \"Спрос на бронирование отелей\""
      ]
    },
    {
      "cell_type": "markdown",
      "metadata": {},
      "source": [
        "Я работаю на удаленном сервер с ГПУ через VS code. Поэтому у меня нет кода который загружает или скачивает данные с Google Colab."
      ]
    },
    {
      "cell_type": "markdown",
      "metadata": {
        "id": "ymzo6h93YvO8"
      },
      "source": [
        "Данные содержат сведения о спросе на отели. Датасет содержит 119 390 наблюдений. Каждое наблюдение представляет собой бронирование отеля. Набор данных учитывает бронирования, которые должны прибыть в период с 1 июля 2015 года по 31 августа 2017 года, включая фактически поступившие и отмененные бронирования.\n",
        "\n",
        "Данные содержат сведения о **70 146** отелях.\n",
        "- Тренировочный набор - **44 634 строк**.\n",
        "- Тестовый набор - **25 512 строк**."
      ]
    },
    {
      "cell_type": "code",
      "execution_count": 1,
      "metadata": {},
      "outputs": [],
      "source": [
        "# установим AutoML фреймворк от Сбера - LightAutoML(LAMA)\n",
        "# это позволит довольно быстро проверять различные гипотезы и \n",
        "# отбирать лучшие решения.\n",
        "# !pip install -U lightautoml"
      ]
    },
    {
      "cell_type": "code",
      "execution_count": 2,
      "metadata": {
        "id": "4FcJiGtaY3ZK"
      },
      "outputs": [
        {
          "name": "stderr",
          "output_type": "stream",
          "text": [
            "/home/admin-gpu/anaconda3/envs/sber_lama/lib/python3.9/site-packages/tqdm/auto.py:22: TqdmWarning: IProgress not found. Please update jupyter and ipywidgets. See https://ipywidgets.readthedocs.io/en/stable/user_install.html\n",
            "  from .autonotebook import tqdm as notebook_tqdm\n"
          ]
        }
      ],
      "source": [
        "# иморитирование всех необходимых библиотек\n",
        "import joblib\n",
        "import pandas as pd\n",
        "import numpy as np\n",
        "from sklearn.model_selection import train_test_split\n",
        "\n",
        "import seaborn as sns\n",
        "import matplotlib.pyplot as plt\n",
        "\n",
        "# импорты из LightAutoML\n",
        "from lightautoml.automl.presets.tabular_presets import TabularAutoML, TabularUtilizedAutoML\n",
        "from lightautoml.tasks import Task"
      ]
    },
    {
      "cell_type": "markdown",
      "metadata": {
        "id": "Gj2EZrPMi44I"
      },
      "source": [
        "## Считывание данных"
      ]
    },
    {
      "cell_type": "code",
      "execution_count": 3,
      "metadata": {
        "colab": {
          "base_uri": "https://localhost:8080/"
        },
        "id": "ONrDnkYzZVpR",
        "outputId": "3adfe65f-3e7b-4c5c-b4f8-702e36143b5f"
      },
      "outputs": [
        {
          "name": "stdout",
          "output_type": "stream",
          "text": [
            "Train dataset shape: (44638, 29)\n"
          ]
        }
      ],
      "source": [
        "# Считываем тренировочные данные\n",
        "train = pd.read_csv(\"data/train_final.csv\")\n",
        "\n",
        "print(f\"Train dataset shape: {train.shape}\")"
      ]
    },
    {
      "cell_type": "code",
      "execution_count": 4,
      "metadata": {
        "colab": {
          "base_uri": "https://localhost:8080/"
        },
        "id": "zxX61HYrbFbf",
        "outputId": "1790dd26-4f25-49f2-94ce-f35285dce882"
      },
      "outputs": [
        {
          "name": "stdout",
          "output_type": "stream",
          "text": [
            "Test dataset shape: (23525, 28)\n"
          ]
        }
      ],
      "source": [
        "# Считываем тестовые данные\n",
        "test = pd.read_csv(\"data/test_final.csv\")\n",
        "\n",
        "print(f\"Test dataset shape: {test.shape}\")"
      ]
    },
    {
      "cell_type": "code",
      "execution_count": 5,
      "metadata": {
        "colab": {
          "base_uri": "https://localhost:8080/",
          "height": 386
        },
        "id": "HObyO7yYbWT5",
        "outputId": "55b5e632-bf49-4af6-f252-b2360256f4a3"
      },
      "outputs": [
        {
          "data": {
            "text/html": [
              "<div>\n",
              "<style scoped>\n",
              "    .dataframe tbody tr th:only-of-type {\n",
              "        vertical-align: middle;\n",
              "    }\n",
              "\n",
              "    .dataframe tbody tr th {\n",
              "        vertical-align: top;\n",
              "    }\n",
              "\n",
              "    .dataframe thead th {\n",
              "        text-align: right;\n",
              "    }\n",
              "</style>\n",
              "<table border=\"1\" class=\"dataframe\">\n",
              "  <thead>\n",
              "    <tr style=\"text-align: right;\">\n",
              "      <th></th>\n",
              "      <th>hotel</th>\n",
              "      <th>is_canceled</th>\n",
              "      <th>lead_time</th>\n",
              "      <th>arrival_date_year</th>\n",
              "      <th>arrival_date_month</th>\n",
              "      <th>arrival_date_week_number</th>\n",
              "      <th>arrival_date_day_of_month</th>\n",
              "      <th>stays_in_weekend_nights</th>\n",
              "      <th>stays_in_week_nights</th>\n",
              "      <th>adults</th>\n",
              "      <th>...</th>\n",
              "      <th>reserved_room_type</th>\n",
              "      <th>assigned_room_type</th>\n",
              "      <th>booking_changes</th>\n",
              "      <th>deposit_type</th>\n",
              "      <th>days_in_waiting_list</th>\n",
              "      <th>customer_type</th>\n",
              "      <th>adr</th>\n",
              "      <th>required_car_parking_spaces</th>\n",
              "      <th>total_of_special_requests</th>\n",
              "      <th>reservation_status_date</th>\n",
              "    </tr>\n",
              "  </thead>\n",
              "  <tbody>\n",
              "    <tr>\n",
              "      <th>0</th>\n",
              "      <td>Resort Hotel</td>\n",
              "      <td>0</td>\n",
              "      <td>3</td>\n",
              "      <td>2016</td>\n",
              "      <td>February</td>\n",
              "      <td>7</td>\n",
              "      <td>12</td>\n",
              "      <td>0</td>\n",
              "      <td>2</td>\n",
              "      <td>2</td>\n",
              "      <td>...</td>\n",
              "      <td>E</td>\n",
              "      <td>F</td>\n",
              "      <td>0</td>\n",
              "      <td>No Deposit</td>\n",
              "      <td>0</td>\n",
              "      <td>Transient</td>\n",
              "      <td>81.0</td>\n",
              "      <td>1</td>\n",
              "      <td>0</td>\n",
              "      <td>2016-02-14</td>\n",
              "    </tr>\n",
              "    <tr>\n",
              "      <th>1</th>\n",
              "      <td>City Hotel</td>\n",
              "      <td>1</td>\n",
              "      <td>50</td>\n",
              "      <td>2016</td>\n",
              "      <td>November</td>\n",
              "      <td>47</td>\n",
              "      <td>18</td>\n",
              "      <td>1</td>\n",
              "      <td>2</td>\n",
              "      <td>2</td>\n",
              "      <td>...</td>\n",
              "      <td>A</td>\n",
              "      <td>A</td>\n",
              "      <td>0</td>\n",
              "      <td>No Deposit</td>\n",
              "      <td>0</td>\n",
              "      <td>Transient</td>\n",
              "      <td>93.6</td>\n",
              "      <td>0</td>\n",
              "      <td>2</td>\n",
              "      <td>2016-10-09</td>\n",
              "    </tr>\n",
              "    <tr>\n",
              "      <th>2</th>\n",
              "      <td>City Hotel</td>\n",
              "      <td>0</td>\n",
              "      <td>14</td>\n",
              "      <td>2015</td>\n",
              "      <td>September</td>\n",
              "      <td>37</td>\n",
              "      <td>7</td>\n",
              "      <td>1</td>\n",
              "      <td>5</td>\n",
              "      <td>2</td>\n",
              "      <td>...</td>\n",
              "      <td>F</td>\n",
              "      <td>F</td>\n",
              "      <td>0</td>\n",
              "      <td>No Deposit</td>\n",
              "      <td>0</td>\n",
              "      <td>Contract</td>\n",
              "      <td>166.0</td>\n",
              "      <td>0</td>\n",
              "      <td>3</td>\n",
              "      <td>2015-09-13</td>\n",
              "    </tr>\n",
              "    <tr>\n",
              "      <th>3</th>\n",
              "      <td>City Hotel</td>\n",
              "      <td>0</td>\n",
              "      <td>18</td>\n",
              "      <td>2015</td>\n",
              "      <td>December</td>\n",
              "      <td>50</td>\n",
              "      <td>6</td>\n",
              "      <td>2</td>\n",
              "      <td>0</td>\n",
              "      <td>2</td>\n",
              "      <td>...</td>\n",
              "      <td>A</td>\n",
              "      <td>A</td>\n",
              "      <td>0</td>\n",
              "      <td>No Deposit</td>\n",
              "      <td>0</td>\n",
              "      <td>Transient</td>\n",
              "      <td>107.0</td>\n",
              "      <td>0</td>\n",
              "      <td>0</td>\n",
              "      <td>2015-12-08</td>\n",
              "    </tr>\n",
              "    <tr>\n",
              "      <th>4</th>\n",
              "      <td>City Hotel</td>\n",
              "      <td>1</td>\n",
              "      <td>263</td>\n",
              "      <td>2016</td>\n",
              "      <td>September</td>\n",
              "      <td>40</td>\n",
              "      <td>29</td>\n",
              "      <td>2</td>\n",
              "      <td>4</td>\n",
              "      <td>2</td>\n",
              "      <td>...</td>\n",
              "      <td>A</td>\n",
              "      <td>A</td>\n",
              "      <td>0</td>\n",
              "      <td>No Deposit</td>\n",
              "      <td>0</td>\n",
              "      <td>Transient</td>\n",
              "      <td>100.3</td>\n",
              "      <td>0</td>\n",
              "      <td>0</td>\n",
              "      <td>2016-01-18</td>\n",
              "    </tr>\n",
              "  </tbody>\n",
              "</table>\n",
              "<p>5 rows × 29 columns</p>\n",
              "</div>"
            ],
            "text/plain": [
              "          hotel  is_canceled  lead_time  arrival_date_year arrival_date_month  \\\n",
              "0  Resort Hotel            0          3               2016           February   \n",
              "1    City Hotel            1         50               2016           November   \n",
              "2    City Hotel            0         14               2015          September   \n",
              "3    City Hotel            0         18               2015           December   \n",
              "4    City Hotel            1        263               2016          September   \n",
              "\n",
              "   arrival_date_week_number  arrival_date_day_of_month  \\\n",
              "0                         7                         12   \n",
              "1                        47                         18   \n",
              "2                        37                          7   \n",
              "3                        50                          6   \n",
              "4                        40                         29   \n",
              "\n",
              "   stays_in_weekend_nights  stays_in_week_nights  adults  ...  \\\n",
              "0                        0                     2       2  ...   \n",
              "1                        1                     2       2  ...   \n",
              "2                        1                     5       2  ...   \n",
              "3                        2                     0       2  ...   \n",
              "4                        2                     4       2  ...   \n",
              "\n",
              "   reserved_room_type  assigned_room_type booking_changes deposit_type  \\\n",
              "0                   E                   F               0   No Deposit   \n",
              "1                   A                   A               0   No Deposit   \n",
              "2                   F                   F               0   No Deposit   \n",
              "3                   A                   A               0   No Deposit   \n",
              "4                   A                   A               0   No Deposit   \n",
              "\n",
              "  days_in_waiting_list customer_type    adr  required_car_parking_spaces  \\\n",
              "0                    0     Transient   81.0                            1   \n",
              "1                    0     Transient   93.6                            0   \n",
              "2                    0      Contract  166.0                            0   \n",
              "3                    0     Transient  107.0                            0   \n",
              "4                    0     Transient  100.3                            0   \n",
              "\n",
              "   total_of_special_requests reservation_status_date  \n",
              "0                          0              2016-02-14  \n",
              "1                          2              2016-10-09  \n",
              "2                          3              2015-09-13  \n",
              "3                          0              2015-12-08  \n",
              "4                          0              2016-01-18  \n",
              "\n",
              "[5 rows x 29 columns]"
            ]
          },
          "execution_count": 5,
          "metadata": {},
          "output_type": "execute_result"
        }
      ],
      "source": [
        "# Посмотрим как выглядят данные\n",
        "train.head()"
      ]
    },
    {
      "cell_type": "markdown",
      "metadata": {
        "id": "0rWzZ_3QbaCz"
      },
      "source": [
        "## Исследование данных"
      ]
    },
    {
      "cell_type": "markdown",
      "metadata": {
        "id": "kEfYOHNIbdse"
      },
      "source": [
        "Прежде чем переходить к непосредственному построению модели, в первую очередь необходимо исследовать имеющихся у вас набор данных:\n",
        "1. Какую задачу вы решаете (классификация, регрессия) и какая переменная является целевой?\n",
        "2. Сколько переменных в данных и какого они типа?\n",
        "3. Имеются ли в данных пропуски?"
      ]
    },
    {
      "cell_type": "code",
      "execution_count": 6,
      "metadata": {
        "colab": {
          "base_uri": "https://localhost:8080/"
        },
        "id": "NaKK3CesbeuU",
        "outputId": "e84a5cf9-5ad4-4e58-f9f8-136fc1b98147"
      },
      "outputs": [
        {
          "name": "stdout",
          "output_type": "stream",
          "text": [
            "Number of missing values in train dataset:\n",
            "hotel                             0\n",
            "is_canceled                       0\n",
            "lead_time                         0\n",
            "arrival_date_year                 0\n",
            "arrival_date_month                0\n",
            "arrival_date_week_number          0\n",
            "arrival_date_day_of_month         0\n",
            "stays_in_weekend_nights           0\n",
            "stays_in_week_nights              0\n",
            "adults                            0\n",
            "children                          0\n",
            "babies                            0\n",
            "meal                              0\n",
            "country                           0\n",
            "market_segment                    0\n",
            "distribution_channel              0\n",
            "is_repeated_guest                 0\n",
            "previous_cancellations            0\n",
            "previous_bookings_not_canceled    0\n",
            "reserved_room_type                0\n",
            "assigned_room_type                0\n",
            "booking_changes                   0\n",
            "deposit_type                      0\n",
            "days_in_waiting_list              0\n",
            "customer_type                     0\n",
            "adr                               0\n",
            "required_car_parking_spaces       0\n",
            "total_of_special_requests         0\n",
            "reservation_status_date           0\n",
            "dtype: int64\n",
            "Number of missing values in test dataset:\n",
            "hotel                             0\n",
            "lead_time                         0\n",
            "arrival_date_year                 0\n",
            "arrival_date_month                0\n",
            "arrival_date_week_number          0\n",
            "arrival_date_day_of_month         0\n",
            "stays_in_weekend_nights           0\n",
            "stays_in_week_nights              0\n",
            "adults                            0\n",
            "children                          0\n",
            "babies                            0\n",
            "meal                              0\n",
            "country                           0\n",
            "market_segment                    0\n",
            "distribution_channel              0\n",
            "is_repeated_guest                 0\n",
            "previous_cancellations            0\n",
            "previous_bookings_not_canceled    0\n",
            "reserved_room_type                0\n",
            "assigned_room_type                0\n",
            "booking_changes                   0\n",
            "deposit_type                      0\n",
            "days_in_waiting_list              0\n",
            "customer_type                     0\n",
            "adr                               0\n",
            "required_car_parking_spaces       0\n",
            "total_of_special_requests         0\n",
            "reservation_status_date           0\n",
            "dtype: int64\n"
          ]
        }
      ],
      "source": [
        "print(\"Number of missing values in train dataset:\")\n",
        "print(train.isna().sum())\n",
        "print(\"Number of missing values in test dataset:\")\n",
        "print(test.isna().sum())"
      ]
    },
    {
      "cell_type": "code",
      "execution_count": 7,
      "metadata": {
        "colab": {
          "base_uri": "https://localhost:8080/"
        },
        "id": "bazQvSFTbmP6",
        "outputId": "c1caa5bb-2def-4d9c-f878-21ce18894733"
      },
      "outputs": [
        {
          "name": "stdout",
          "output_type": "stream",
          "text": [
            "<class 'pandas.core.frame.DataFrame'>\n",
            "RangeIndex: 44638 entries, 0 to 44637\n",
            "Data columns (total 29 columns):\n",
            " #   Column                          Non-Null Count  Dtype  \n",
            "---  ------                          --------------  -----  \n",
            " 0   hotel                           44638 non-null  object \n",
            " 1   is_canceled                     44638 non-null  int64  \n",
            " 2   lead_time                       44638 non-null  int64  \n",
            " 3   arrival_date_year               44638 non-null  int64  \n",
            " 4   arrival_date_month              44638 non-null  object \n",
            " 5   arrival_date_week_number        44638 non-null  int64  \n",
            " 6   arrival_date_day_of_month       44638 non-null  int64  \n",
            " 7   stays_in_weekend_nights         44638 non-null  int64  \n",
            " 8   stays_in_week_nights            44638 non-null  int64  \n",
            " 9   adults                          44638 non-null  int64  \n",
            " 10  children                        44638 non-null  float64\n",
            " 11  babies                          44638 non-null  int64  \n",
            " 12  meal                            44638 non-null  object \n",
            " 13  country                         44638 non-null  object \n",
            " 14  market_segment                  44638 non-null  object \n",
            " 15  distribution_channel            44638 non-null  object \n",
            " 16  is_repeated_guest               44638 non-null  int64  \n",
            " 17  previous_cancellations          44638 non-null  int64  \n",
            " 18  previous_bookings_not_canceled  44638 non-null  int64  \n",
            " 19  reserved_room_type              44638 non-null  object \n",
            " 20  assigned_room_type              44638 non-null  object \n",
            " 21  booking_changes                 44638 non-null  int64  \n",
            " 22  deposit_type                    44638 non-null  object \n",
            " 23  days_in_waiting_list            44638 non-null  int64  \n",
            " 24  customer_type                   44638 non-null  object \n",
            " 25  adr                             44638 non-null  float64\n",
            " 26  required_car_parking_spaces     44638 non-null  int64  \n",
            " 27  total_of_special_requests       44638 non-null  int64  \n",
            " 28  reservation_status_date         44638 non-null  object \n",
            "dtypes: float64(2), int64(16), object(11)\n",
            "memory usage: 9.9+ MB\n"
          ]
        }
      ],
      "source": [
        "train.info()"
      ]
    },
    {
      "cell_type": "markdown",
      "metadata": {
        "id": "_YDWDh8XcI79"
      },
      "source": [
        "**Проверим баланс классов.**\n",
        "\n",
        "В задаче классификации данные называются несбалансированными (Imbalanced Data), если в обучающей выборке доли объектов разных классов существенно различаются, также говорят, что «классы не сбалансированы»."
      ]
    },
    {
      "cell_type": "code",
      "execution_count": 8,
      "metadata": {
        "colab": {
          "base_uri": "https://localhost:8080/"
        },
        "id": "gUlB5iR-b8-b",
        "outputId": "284396ab-dde0-4b71-d67e-8580af3c3a05"
      },
      "outputs": [
        {
          "data": {
            "text/plain": [
              "0    31354\n",
              "1    13284\n",
              "Name: is_canceled, dtype: int64"
            ]
          },
          "execution_count": 8,
          "metadata": {},
          "output_type": "execute_result"
        }
      ],
      "source": [
        "train['is_canceled'].value_counts()"
      ]
    },
    {
      "cell_type": "code",
      "execution_count": 9,
      "metadata": {
        "colab": {
          "base_uri": "https://localhost:8080/",
          "height": 0
        },
        "id": "jv-e5ow3dB6y",
        "outputId": "d28c676b-4a43-4a75-eb4a-66fc190ae7d6"
      },
      "outputs": [
        {
          "data": {
            "image/png": "[encoded data removed]",
            "text/plain": [
              "<Figure size 432x288 with 1 Axes>"
            ]
          },
          "metadata": {
            "needs_background": "light"
          },
          "output_type": "display_data"
        }
      ],
      "source": [
        "sns.set(style=\"white\")\n",
        "sns.set(style=\"whitegrid\", color_codes=True)\n",
        "y_data = pd.DataFrame(train['is_canceled'])\n",
        "sns.countplot(x='is_canceled', data=y_data, palette='hls')\n",
        "plt.show()"
      ]
    },
    {
      "cell_type": "markdown",
      "metadata": {
        "id": "uAgv8_SCbrHo"
      },
      "source": [
        "## Предобработка данных"
      ]
    },
    {
      "cell_type": "markdown",
      "metadata": {
        "id": "XvLR4TMZbuns"
      },
      "source": [
        "Исходя из анализа данных, можно сделать выводы:\n",
        "- в данных пропусков нет\n",
        "- в данных имеются категориальные признаки\n",
        "- в задаче решается задача бинарной классификации\n",
        "- существует небольшой дисбаланс классов отмененных бронирований отелей (класс 1) примерно в два раза меньше, чем неотмененных (класс 2).\n",
        "Это хорошо для владельцев отелей, но может создать некоторый bias в нашей модели.\n",
        "Однако итоговая метрика соревнования accuracy, данная метрика не учитывает дисбаланс классов."
      ]
    },
    {
      "cell_type": "markdown",
      "metadata": {
        "id": "0LHpErJTjTz7"
      },
      "source": [
        "### Кодирование признаков"
      ]
    },
    {
      "cell_type": "markdown",
      "metadata": {
        "id": "vRQYZJ2yjgS5"
      },
      "source": [
        "**Категориальные признаки называют по-разному: факторными, номинальными.**\n",
        "\n",
        "Их значения определяют факт принадлежности к какой-то категории. Примеры таких признаков: пол, страна проживания, номер группы, категория товаров и т.п. Ясно, что для компьютерной обработки вместо «понятного для человека» значения (в случае страны — ‘Russia’, ‘GB’, ‘France’ и т.п.) хранят числа. "
      ]
    },
    {
      "cell_type": "markdown",
      "metadata": {
        "id": "2g2tYEQfjkIV"
      },
      "source": [
        "**Категориальные** признаки называют по-разному: **факторными**, **номинальными**. Их значения определяют факт принадлежности к какой-то категории. \n",
        "\n",
        "Примеры таких признаков: пол, страна проживания, номер группы, категория товаров и т.п. Ясно, что для компьютерной обработки вместо «понятного для человека» значения (в случае страны — ‘Russia’, ‘GB’, ‘France’ и т.п.) хранят числа."
      ]
    },
    {
      "cell_type": "code",
      "execution_count": 10,
      "metadata": {},
      "outputs": [
        {
          "name": "stdout",
          "output_type": "stream",
          "text": [
            "hotel\n",
            "arrival_date_month\n",
            "meal\n",
            "country\n",
            "market_segment\n",
            "distribution_channel\n",
            "reserved_room_type\n",
            "assigned_room_type\n",
            "deposit_type\n",
            "customer_type\n",
            "reservation_status_date\n"
          ]
        }
      ],
      "source": [
        "# Перечислим колонки которые являются категоритальными признаками\n",
        "# выбрали датафраме test, чтобы в списке признаков не было целевой переменной\n",
        "\n",
        "category_features = []\n",
        "for col_name in test.loc[:, train.dtypes == object].columns:\n",
        "    print(col_name)\n",
        "    category_features.append(col_name)"
      ]
    },
    {
      "cell_type": "code",
      "execution_count": 11,
      "metadata": {},
      "outputs": [
        {
          "name": "stdout",
          "output_type": "stream",
          "text": [
            "lead_time\n",
            "arrival_date_year\n",
            "arrival_date_week_number\n",
            "arrival_date_day_of_month\n",
            "stays_in_weekend_nights\n",
            "stays_in_week_nights\n",
            "adults\n",
            "children\n",
            "babies\n",
            "is_repeated_guest\n",
            "previous_cancellations\n",
            "previous_bookings_not_canceled\n",
            "booking_changes\n",
            "days_in_waiting_list\n",
            "adr\n",
            "required_car_parking_spaces\n",
            "total_of_special_requests\n"
          ]
        }
      ],
      "source": [
        "# Перечислим колонки которые являются количественными(числовыми) признаками\n",
        "# выбрали датафраме test, чтобы в списке признаков не было целевой переменной\n",
        "\n",
        "numeric_features = []\n",
        "for col_name in test.loc[:, train.dtypes != object].columns:\n",
        "    print(col_name)\n",
        "    numeric_features.append(col_name)"
      ]
    },
    {
      "cell_type": "markdown",
      "metadata": {},
      "source": [
        "У используемой мной библиотеки lightAutoLM от Сбера есть своя встроенная обработка категориальных данных.\n",
        "Нам нужно пр постановке задачи просто указать какие колонки являются количественными(числовыми), а какие категориальными.\n",
        "Что мы и сделаем."
      ]
    },
    {
      "cell_type": "markdown",
      "metadata": {},
      "source": [
        "Бывает, что распределения числовых признаков в предоставленных данных могут сильно отличаться.\n",
        "Например, некоторый параметр \"цена бронирования\" имеет в train выборе распределение от 0 до 1000, а в тесте от 5000 до 10000.\n",
        "Таким образом модель обученная по выборке train будет работать в диапазоне значений который не встречается в test выборке.\n",
        "Простейший способ борьбы с этим явлением - избавиться от такого признака при обучении модели."
      ]
    },
    {
      "cell_type": "code",
      "execution_count": 12,
      "metadata": {},
      "outputs": [
        {
          "name": "stderr",
          "output_type": "stream",
          "text": [
            "/home/admin-gpu/anaconda3/envs/sber_lama/lib/python3.9/site-packages/seaborn/distributions.py:2619: FutureWarning: `distplot` is a deprecated function and will be removed in a future version. Please adapt your code to use either `displot` (a figure-level function with similar flexibility) or `kdeplot` (an axes-level function for kernel density plots).\n",
            "  warnings.warn(msg, FutureWarning)\n",
            "/home/admin-gpu/anaconda3/envs/sber_lama/lib/python3.9/site-packages/seaborn/distributions.py:2619: FutureWarning: `distplot` is a deprecated function and will be removed in a future version. Please adapt your code to use either `displot` (a figure-level function with similar flexibility) or `kdeplot` (an axes-level function for kernel density plots).\n",
            "  warnings.warn(msg, FutureWarning)\n"
          ]
        },
        {
          "data": {
            "image/png": "[encoded data removed]",
            "text/plain": [
              "<Figure size 432x288 with 1 Axes>"
            ]
          },
          "metadata": {
            "needs_background": "light"
          },
          "output_type": "display_data"
        },
        {
          "name": "stderr",
          "output_type": "stream",
          "text": [
            "/home/admin-gpu/anaconda3/envs/sber_lama/lib/python3.9/site-packages/seaborn/distributions.py:2619: FutureWarning: `distplot` is a deprecated function and will be removed in a future version. Please adapt your code to use either `displot` (a figure-level function with similar flexibility) or `kdeplot` (an axes-level function for kernel density plots).\n",
            "  warnings.warn(msg, FutureWarning)\n",
            "/home/admin-gpu/anaconda3/envs/sber_lama/lib/python3.9/site-packages/seaborn/distributions.py:2619: FutureWarning: `distplot` is a deprecated function and will be removed in a future version. Please adapt your code to use either `displot` (a figure-level function with similar flexibility) or `kdeplot` (an axes-level function for kernel density plots).\n",
            "  warnings.warn(msg, FutureWarning)\n"
          ]
        },
        {
          "data": {
            "image/png": "[encoded data removed]",
            "text/plain": [
              "<Figure size 432x288 with 1 Axes>"
            ]
          },
          "metadata": {
            "needs_background": "light"
          },
          "output_type": "display_data"
        },
        {
          "name": "stderr",
          "output_type": "stream",
          "text": [
            "/home/admin-gpu/anaconda3/envs/sber_lama/lib/python3.9/site-packages/seaborn/distributions.py:2619: FutureWarning: `distplot` is a deprecated function and will be removed in a future version. Please adapt your code to use either `displot` (a figure-level function with similar flexibility) or `kdeplot` (an axes-level function for kernel density plots).\n",
            "  warnings.warn(msg, FutureWarning)\n",
            "/home/admin-gpu/anaconda3/envs/sber_lama/lib/python3.9/site-packages/seaborn/distributions.py:2619: FutureWarning: `distplot` is a deprecated function and will be removed in a future version. Please adapt your code to use either `displot` (a figure-level function with similar flexibility) or `kdeplot` (an axes-level function for kernel density plots).\n",
            "  warnings.warn(msg, FutureWarning)\n"
          ]
        },
        {
          "data": {
            "image/png": "[encoded data removed]",
            "text/plain": [
              "<Figure size 432x288 with 1 Axes>"
            ]
          },
          "metadata": {
            "needs_background": "light"
          },
          "output_type": "display_data"
        },
        {
          "name": "stderr",
          "output_type": "stream",
          "text": [
            "/home/admin-gpu/anaconda3/envs/sber_lama/lib/python3.9/site-packages/seaborn/distributions.py:2619: FutureWarning: `distplot` is a deprecated function and will be removed in a future version. Please adapt your code to use either `displot` (a figure-level function with similar flexibility) or `kdeplot` (an axes-level function for kernel density plots).\n",
            "  warnings.warn(msg, FutureWarning)\n",
            "/home/admin-gpu/anaconda3/envs/sber_lama/lib/python3.9/site-packages/seaborn/distributions.py:2619: FutureWarning: `distplot` is a deprecated function and will be removed in a future version. Please adapt your code to use either `displot` (a figure-level function with similar flexibility) or `kdeplot` (an axes-level function for kernel density plots).\n",
            "  warnings.warn(msg, FutureWarning)\n"
          ]
        },
        {
          "data": {
            "image/png": "[encoded data removed]",
            "text/plain": [
              "<Figure size 432x288 with 1 Axes>"
            ]
          },
          "metadata": {
            "needs_background": "light"
          },
          "output_type": "display_data"
        },
        {
          "name": "stderr",
          "output_type": "stream",
          "text": [
            "/home/admin-gpu/anaconda3/envs/sber_lama/lib/python3.9/site-packages/seaborn/distributions.py:2619: FutureWarning: `distplot` is a deprecated function and will be removed in a future version. Please adapt your code to use either `displot` (a figure-level function with similar flexibility) or `kdeplot` (an axes-level function for kernel density plots).\n",
            "  warnings.warn(msg, FutureWarning)\n",
            "/home/admin-gpu/anaconda3/envs/sber_lama/lib/python3.9/site-packages/seaborn/distributions.py:2619: FutureWarning: `distplot` is a deprecated function and will be removed in a future version. Please adapt your code to use either `displot` (a figure-level function with similar flexibility) or `kdeplot` (an axes-level function for kernel density plots).\n",
            "  warnings.warn(msg, FutureWarning)\n"
          ]
        },
        {
          "data": {
            "image/png": "[encoded data removed]",
            "text/plain": [
              "<Figure size 432x288 with 1 Axes>"
            ]
          },
          "metadata": {
            "needs_background": "light"
          },
          "output_type": "display_data"
        },
        {
          "name": "stderr",
          "output_type": "stream",
          "text": [
            "/home/admin-gpu/anaconda3/envs/sber_lama/lib/python3.9/site-packages/seaborn/distributions.py:2619: FutureWarning: `distplot` is a deprecated function and will be removed in a future version. Please adapt your code to use either `displot` (a figure-level function with similar flexibility) or `kdeplot` (an axes-level function for kernel density plots).\n",
            "  warnings.warn(msg, FutureWarning)\n",
            "/home/admin-gpu/anaconda3/envs/sber_lama/lib/python3.9/site-packages/seaborn/distributions.py:2619: FutureWarning: `distplot` is a deprecated function and will be removed in a future version. Please adapt your code to use either `displot` (a figure-level function with similar flexibility) or `kdeplot` (an axes-level function for kernel density plots).\n",
            "  warnings.warn(msg, FutureWarning)\n"
          ]
        },
        {
          "data": {
            "image/png": "[encoded data removed]",
            "text/plain": [
              "<Figure size 432x288 with 1 Axes>"
            ]
          },
          "metadata": {
            "needs_background": "light"
          },
          "output_type": "display_data"
        },
        {
          "name": "stderr",
          "output_type": "stream",
          "text": [
            "/home/admin-gpu/anaconda3/envs/sber_lama/lib/python3.9/site-packages/seaborn/distributions.py:2619: FutureWarning: `distplot` is a deprecated function and will be removed in a future version. Please adapt your code to use either `displot` (a figure-level function with similar flexibility) or `kdeplot` (an axes-level function for kernel density plots).\n",
            "  warnings.warn(msg, FutureWarning)\n",
            "/home/admin-gpu/anaconda3/envs/sber_lama/lib/python3.9/site-packages/seaborn/distributions.py:2619: FutureWarning: `distplot` is a deprecated function and will be removed in a future version. Please adapt your code to use either `displot` (a figure-level function with similar flexibility) or `kdeplot` (an axes-level function for kernel density plots).\n",
            "  warnings.warn(msg, FutureWarning)\n"
          ]
        },
        {
          "data": {
            "image/png": "[encoded data removed]",
            "text/plain": [
              "<Figure size 432x288 with 1 Axes>"
            ]
          },
          "metadata": {
            "needs_background": "light"
          },
          "output_type": "display_data"
        },
        {
          "name": "stderr",
          "output_type": "stream",
          "text": [
            "/home/admin-gpu/anaconda3/envs/sber_lama/lib/python3.9/site-packages/seaborn/distributions.py:2619: FutureWarning: `distplot` is a deprecated function and will be removed in a future version. Please adapt your code to use either `displot` (a figure-level function with similar flexibility) or `kdeplot` (an axes-level function for kernel density plots).\n",
            "  warnings.warn(msg, FutureWarning)\n",
            "/home/admin-gpu/anaconda3/envs/sber_lama/lib/python3.9/site-packages/seaborn/distributions.py:2619: FutureWarning: `distplot` is a deprecated function and will be removed in a future version. Please adapt your code to use either `displot` (a figure-level function with similar flexibility) or `kdeplot` (an axes-level function for kernel density plots).\n",
            "  warnings.warn(msg, FutureWarning)\n"
          ]
        },
        {
          "data": {
            "image/png": "[encoded data removed]",
            "text/plain": [
              "<Figure size 432x288 with 1 Axes>"
            ]
          },
          "metadata": {
            "needs_background": "light"
          },
          "output_type": "display_data"
        },
        {
          "name": "stderr",
          "output_type": "stream",
          "text": [
            "/home/admin-gpu/anaconda3/envs/sber_lama/lib/python3.9/site-packages/seaborn/distributions.py:2619: FutureWarning: `distplot` is a deprecated function and will be removed in a future version. Please adapt your code to use either `displot` (a figure-level function with similar flexibility) or `kdeplot` (an axes-level function for kernel density plots).\n",
            "  warnings.warn(msg, FutureWarning)\n",
            "/home/admin-gpu/anaconda3/envs/sber_lama/lib/python3.9/site-packages/seaborn/distributions.py:2619: FutureWarning: `distplot` is a deprecated function and will be removed in a future version. Please adapt your code to use either `displot` (a figure-level function with similar flexibility) or `kdeplot` (an axes-level function for kernel density plots).\n",
            "  warnings.warn(msg, FutureWarning)\n"
          ]
        },
        {
          "data": {
            "image/png": "[encoded data removed]",
            "text/plain": [
              "<Figure size 432x288 with 1 Axes>"
            ]
          },
          "metadata": {
            "needs_background": "light"
          },
          "output_type": "display_data"
        },
        {
          "name": "stderr",
          "output_type": "stream",
          "text": [
            "/home/admin-gpu/anaconda3/envs/sber_lama/lib/python3.9/site-packages/seaborn/distributions.py:2619: FutureWarning: `distplot` is a deprecated function and will be removed in a future version. Please adapt your code to use either `displot` (a figure-level function with similar flexibility) or `kdeplot` (an axes-level function for kernel density plots).\n",
            "  warnings.warn(msg, FutureWarning)\n",
            "/home/admin-gpu/anaconda3/envs/sber_lama/lib/python3.9/site-packages/seaborn/distributions.py:2619: FutureWarning: `distplot` is a deprecated function and will be removed in a future version. Please adapt your code to use either `displot` (a figure-level function with similar flexibility) or `kdeplot` (an axes-level function for kernel density plots).\n",
            "  warnings.warn(msg, FutureWarning)\n"
          ]
        },
        {
          "data": {
            "image/png": "[encoded data removed]",
            "text/plain": [
              "<Figure size 432x288 with 1 Axes>"
            ]
          },
          "metadata": {
            "needs_background": "light"
          },
          "output_type": "display_data"
        },
        {
          "name": "stderr",
          "output_type": "stream",
          "text": [
            "/home/admin-gpu/anaconda3/envs/sber_lama/lib/python3.9/site-packages/seaborn/distributions.py:2619: FutureWarning: `distplot` is a deprecated function and will be removed in a future version. Please adapt your code to use either `displot` (a figure-level function with similar flexibility) or `kdeplot` (an axes-level function for kernel density plots).\n",
            "  warnings.warn(msg, FutureWarning)\n",
            "/home/admin-gpu/anaconda3/envs/sber_lama/lib/python3.9/site-packages/seaborn/distributions.py:2619: FutureWarning: `distplot` is a deprecated function and will be removed in a future version. Please adapt your code to use either `displot` (a figure-level function with similar flexibility) or `kdeplot` (an axes-level function for kernel density plots).\n",
            "  warnings.warn(msg, FutureWarning)\n"
          ]
        },
        {
          "data": {
            "image/png": "[encoded data removed]",
            "text/plain": [
              "<Figure size 432x288 with 1 Axes>"
            ]
          },
          "metadata": {
            "needs_background": "light"
          },
          "output_type": "display_data"
        },
        {
          "name": "stderr",
          "output_type": "stream",
          "text": [
            "/home/admin-gpu/anaconda3/envs/sber_lama/lib/python3.9/site-packages/seaborn/distributions.py:2619: FutureWarning: `distplot` is a deprecated function and will be removed in a future version. Please adapt your code to use either `displot` (a figure-level function with similar flexibility) or `kdeplot` (an axes-level function for kernel density plots).\n",
            "  warnings.warn(msg, FutureWarning)\n",
            "/home/admin-gpu/anaconda3/envs/sber_lama/lib/python3.9/site-packages/seaborn/distributions.py:2619: FutureWarning: `distplot` is a deprecated function and will be removed in a future version. Please adapt your code to use either `displot` (a figure-level function with similar flexibility) or `kdeplot` (an axes-level function for kernel density plots).\n",
            "  warnings.warn(msg, FutureWarning)\n"
          ]
        },
        {
          "data": {
            "image/png": "[encoded data removed]",
            "text/plain": [
              "<Figure size 432x288 with 1 Axes>"
            ]
          },
          "metadata": {
            "needs_background": "light"
          },
          "output_type": "display_data"
        },
        {
          "name": "stderr",
          "output_type": "stream",
          "text": [
            "/home/admin-gpu/anaconda3/envs/sber_lama/lib/python3.9/site-packages/seaborn/distributions.py:2619: FutureWarning: `distplot` is a deprecated function and will be removed in a future version. Please adapt your code to use either `displot` (a figure-level function with similar flexibility) or `kdeplot` (an axes-level function for kernel density plots).\n",
            "  warnings.warn(msg, FutureWarning)\n",
            "/home/admin-gpu/anaconda3/envs/sber_lama/lib/python3.9/site-packages/seaborn/distributions.py:2619: FutureWarning: `distplot` is a deprecated function and will be removed in a future version. Please adapt your code to use either `displot` (a figure-level function with similar flexibility) or `kdeplot` (an axes-level function for kernel density plots).\n",
            "  warnings.warn(msg, FutureWarning)\n"
          ]
        },
        {
          "data": {
            "image/png": "[encoded data removed]",
            "text/plain": [
              "<Figure size 432x288 with 1 Axes>"
            ]
          },
          "metadata": {
            "needs_background": "light"
          },
          "output_type": "display_data"
        },
        {
          "name": "stderr",
          "output_type": "stream",
          "text": [
            "/home/admin-gpu/anaconda3/envs/sber_lama/lib/python3.9/site-packages/seaborn/distributions.py:2619: FutureWarning: `distplot` is a deprecated function and will be removed in a future version. Please adapt your code to use either `displot` (a figure-level function with similar flexibility) or `kdeplot` (an axes-level function for kernel density plots).\n",
            "  warnings.warn(msg, FutureWarning)\n",
            "/home/admin-gpu/anaconda3/envs/sber_lama/lib/python3.9/site-packages/seaborn/distributions.py:2619: FutureWarning: `distplot` is a deprecated function and will be removed in a future version. Please adapt your code to use either `displot` (a figure-level function with similar flexibility) or `kdeplot` (an axes-level function for kernel density plots).\n",
            "  warnings.warn(msg, FutureWarning)\n"
          ]
        },
        {
          "data": {
            "image/png": "[encoded data removed]",
            "text/plain": [
              "<Figure size 432x288 with 1 Axes>"
            ]
          },
          "metadata": {
            "needs_background": "light"
          },
          "output_type": "display_data"
        },
        {
          "name": "stderr",
          "output_type": "stream",
          "text": [
            "/home/admin-gpu/anaconda3/envs/sber_lama/lib/python3.9/site-packages/seaborn/distributions.py:2619: FutureWarning: `distplot` is a deprecated function and will be removed in a future version. Please adapt your code to use either `displot` (a figure-level function with similar flexibility) or `kdeplot` (an axes-level function for kernel density plots).\n",
            "  warnings.warn(msg, FutureWarning)\n",
            "/home/admin-gpu/anaconda3/envs/sber_lama/lib/python3.9/site-packages/seaborn/distributions.py:2619: FutureWarning: `distplot` is a deprecated function and will be removed in a future version. Please adapt your code to use either `displot` (a figure-level function with similar flexibility) or `kdeplot` (an axes-level function for kernel density plots).\n",
            "  warnings.warn(msg, FutureWarning)\n"
          ]
        },
        {
          "data": {
            "image/png": "[encoded data removed]",
            "text/plain": [
              "<Figure size 432x288 with 1 Axes>"
            ]
          },
          "metadata": {
            "needs_background": "light"
          },
          "output_type": "display_data"
        },
        {
          "name": "stderr",
          "output_type": "stream",
          "text": [
            "/home/admin-gpu/anaconda3/envs/sber_lama/lib/python3.9/site-packages/seaborn/distributions.py:2619: FutureWarning: `distplot` is a deprecated function and will be removed in a future version. Please adapt your code to use either `displot` (a figure-level function with similar flexibility) or `kdeplot` (an axes-level function for kernel density plots).\n",
            "  warnings.warn(msg, FutureWarning)\n",
            "/home/admin-gpu/anaconda3/envs/sber_lama/lib/python3.9/site-packages/seaborn/distributions.py:2619: FutureWarning: `distplot` is a deprecated function and will be removed in a future version. Please adapt your code to use either `displot` (a figure-level function with similar flexibility) or `kdeplot` (an axes-level function for kernel density plots).\n",
            "  warnings.warn(msg, FutureWarning)\n"
          ]
        },
        {
          "data": {
            "image/png": "[encoded data removed]",
            "text/plain": [
              "<Figure size 432x288 with 1 Axes>"
            ]
          },
          "metadata": {
            "needs_background": "light"
          },
          "output_type": "display_data"
        },
        {
          "name": "stderr",
          "output_type": "stream",
          "text": [
            "/home/admin-gpu/anaconda3/envs/sber_lama/lib/python3.9/site-packages/seaborn/distributions.py:2619: FutureWarning: `distplot` is a deprecated function and will be removed in a future version. Please adapt your code to use either `displot` (a figure-level function with similar flexibility) or `kdeplot` (an axes-level function for kernel density plots).\n",
            "  warnings.warn(msg, FutureWarning)\n",
            "/home/admin-gpu/anaconda3/envs/sber_lama/lib/python3.9/site-packages/seaborn/distributions.py:2619: FutureWarning: `distplot` is a deprecated function and will be removed in a future version. Please adapt your code to use either `displot` (a figure-level function with similar flexibility) or `kdeplot` (an axes-level function for kernel density plots).\n",
            "  warnings.warn(msg, FutureWarning)\n"
          ]
        },
        {
          "data": {
            "image/png": "[encoded data removed]",
            "text/plain": [
              "<Figure size 432x288 with 1 Axes>"
            ]
          },
          "metadata": {
            "needs_background": "light"
          },
          "output_type": "display_data"
        }
      ],
      "source": [
        "# Мы хотим посмотреть распределения значений у количественных признаков между выборками train и test\n",
        "\n",
        "for col_i in test.loc[:, train.dtypes != object].columns:\n",
        "    sns.distplot(train[[col_i]], hist=False)\n",
        "    sns.distplot(test[[col_i]], hist=False)\n",
        "    plt.title(col_i)\n",
        "    plt.show()"
      ]
    },
    {
      "cell_type": "markdown",
      "metadata": {},
      "source": [
        "## Вывод -  выборки train и test гомогенны\n",
        "Мы видим, что распределения очень похожи а выборки train и test - гомогенны. Можно работать со всеми числовыми признаками )"
      ]
    },
    {
      "cell_type": "markdown",
      "metadata": {},
      "source": [
        "## Разделяем train-выборку на train (80%) и val(20%)"
      ]
    },
    {
      "cell_type": "code",
      "execution_count": 13,
      "metadata": {},
      "outputs": [
        {
          "name": "stdout",
          "output_type": "stream",
          "text": [
            "Parts sizes: tr_data = (35710, 29), valid_data = (8928, 29)\n"
          ]
        }
      ],
      "source": [
        "# Разобьем выборку на обучающую и валидационную\n",
        "tr_data, valid_data = train_test_split(train, \n",
        "                                       test_size=0.2, \n",
        "                                       stratify=train['is_canceled'], \n",
        "                                       random_state=42)\n",
        "\n",
        "print(f'Parts sizes: tr_data = {tr_data.shape}, valid_data = {valid_data.shape}')"
      ]
    },
    {
      "cell_type": "markdown",
      "metadata": {
        "id": "ZZu6c22TOehx"
      },
      "source": [
        "## Обучение модели"
      ]
    },
    {
      "cell_type": "markdown",
      "metadata": {
        "id": "K41rZhCIOh7C"
      },
      "source": [
        "Теперь наши данные готовы для обучения модели."
      ]
    },
    {
      "cell_type": "markdown",
      "metadata": {},
      "source": [
        "## Ставим задачу машинного обучения используем все"
      ]
    },
    {
      "cell_type": "code",
      "execution_count": 14,
      "metadata": {},
      "outputs": [],
      "source": [
        "# https://lightautoml.readthedocs.io/en/latest/python_api/generated/lightautoml.tasks.base.Task.html#lightautoml.tasks.base.Task\n",
        "task = Task('binary', loss= 'logloss', metric = 'accuracy')"
      ]
    },
    {
      "cell_type": "code",
      "execution_count": 15,
      "metadata": {},
      "outputs": [
        {
          "data": {
            "text/plain": [
              "['hotel',\n",
              " 'arrival_date_month',\n",
              " 'meal',\n",
              " 'country',\n",
              " 'market_segment',\n",
              " 'distribution_channel',\n",
              " 'reserved_room_type',\n",
              " 'assigned_room_type',\n",
              " 'deposit_type',\n",
              " 'customer_type',\n",
              " 'reservation_status_date']"
            ]
          },
          "execution_count": 15,
          "metadata": {},
          "output_type": "execute_result"
        }
      ],
      "source": [
        "category_features"
      ]
    },
    {
      "cell_type": "code",
      "execution_count": 16,
      "metadata": {},
      "outputs": [
        {
          "data": {
            "text/plain": [
              "['lead_time',\n",
              " 'arrival_date_year',\n",
              " 'arrival_date_week_number',\n",
              " 'arrival_date_day_of_month',\n",
              " 'stays_in_weekend_nights',\n",
              " 'stays_in_week_nights',\n",
              " 'adults',\n",
              " 'children',\n",
              " 'babies',\n",
              " 'is_repeated_guest',\n",
              " 'previous_cancellations',\n",
              " 'previous_bookings_not_canceled',\n",
              " 'booking_changes',\n",
              " 'days_in_waiting_list',\n",
              " 'adr',\n",
              " 'required_car_parking_spaces',\n",
              " 'total_of_special_requests']"
            ]
          },
          "execution_count": 16,
          "metadata": {},
          "output_type": "execute_result"
        }
      ],
      "source": [
        "numeric_features"
      ]
    },
    {
      "cell_type": "code",
      "execution_count": 17,
      "metadata": {},
      "outputs": [],
      "source": [
        "roles = {'target': 'is_canceled',\n",
        "         'numeric': numeric_features,\n",
        "         'category': category_features\n",
        "         }"
      ]
    },
    {
      "cell_type": "code",
      "execution_count": 18,
      "metadata": {},
      "outputs": [],
      "source": [
        "# Эксперименты показали, что в итоговой блендинг модели наибольший вклад\n",
        "# около 95% имеет модель градиентного бустинга lgb.\n",
        "# Вклад Логистической регрессии с l2-регуляризацией менее 1%.\n",
        "# Вклад градиентного бустинга CatBoost составил 5%.\n",
        "# В итоговом решении я оставил только эту модель.\n",
        "automl = TabularAutoML(task = task, \n",
        "                    timeout = 3600 * 3, # 3600 секунд = 1 час\n",
        "                    general_params = {'use_algos': [['lgb']]},\n",
        "                    reader_params = {'n_jobs': 12},\n",
        "                    timing_params ={'mode': 0}\n",
        "                    )"
      ]
    },
    {
      "cell_type": "code",
      "execution_count": 19,
      "metadata": {},
      "outputs": [
        {
          "name": "stdout",
          "output_type": "stream",
          "text": [
            "[07:18:26] Stdout logging level is DEBUG.\n",
            "[07:18:26] Copying TaskTimer may affect the parent PipelineTimer, so copy will create new unlimited TaskTimer\n",
            "[07:18:26] Task: binary\n",
            "\n",
            "[07:18:26] Start automl preset with listed constraints:\n",
            "[07:18:26] - time: 10800.00 seconds\n",
            "[07:18:26] - CPU: 4 cores\n",
            "[07:18:26] - memory: 16 GB\n",
            "\n",
            "[07:18:26] \u001b[1mTrain data shape: (35710, 29)\u001b[0m\n",
            "\n",
            "[07:18:27] Feats was rejected during automatic roles guess: []\n",
            "[07:18:27] Layer \u001b[1m1\u001b[0m train process start. Time left 10798.88 secs\n",
            "[07:18:27] Training until validation scores don't improve for 200 rounds\n",
            "[07:18:27] [100]\tvalid's binary_error: 0.0854102\n",
            "[07:18:27] [200]\tvalid's binary_error: 0.058107\n",
            "[07:18:27] [300]\tvalid's binary_error: 0.0455055\n",
            "[07:18:28] [400]\tvalid's binary_error: 0.0401848\n",
            "[07:18:28] [500]\tvalid's binary_error: 0.0382246\n",
            "[07:18:28] [600]\tvalid's binary_error: 0.0358443\n",
            "[07:18:28] [700]\tvalid's binary_error: 0.0338841\n",
            "[07:18:28] [800]\tvalid's binary_error: 0.0329039\n",
            "[07:18:28] [900]\tvalid's binary_error: 0.0326239\n",
            "[07:18:28] [1000]\tvalid's binary_error: 0.0312237\n",
            "[07:18:28] [1100]\tvalid's binary_error: 0.0303836\n",
            "[07:18:29] [1200]\tvalid's binary_error: 0.0301036\n",
            "[07:18:29] Did not meet early stopping. Best iteration is:\n",
            "[1162]\tvalid's binary_error: 0.0299636\n",
            "[07:18:29] \u001b[1mSelector_LightGBM\u001b[0m fitting and predicting completed\n",
            "[07:18:29] Start fitting \u001b[1mLvl_0_Pipe_0_Mod_0_LightGBM\u001b[0m ...\n",
            "[07:18:29] Training params: {'task': 'train', 'learning_rate': 0.03, 'num_leaves': 32, 'feature_fraction': 0.7, 'bagging_fraction': 0.7, 'bagging_freq': 1, 'max_depth': -1, 'verbosity': -1, 'reg_alpha': 0.0, 'reg_lambda': 0.0, 'min_split_gain': 0.0, 'zero_as_missing': False, 'num_threads': 4, 'max_bin': 255, 'min_data_in_bin': 3, 'num_trees': 1200, 'early_stopping_rounds': 200, 'random_state': 42}\n",
            "[07:18:29] ===== Start working with \u001b[1mfold 0\u001b[0m for \u001b[1mLvl_0_Pipe_0_Mod_0_LightGBM\u001b[0m =====\n",
            "[07:18:29] Training until validation scores don't improve for 200 rounds\n",
            "[07:18:30] [100]\tvalid's binary_error: 0.0449454\n",
            "[07:18:30] [200]\tvalid's binary_error: 0.041585\n",
            "[07:18:30] [300]\tvalid's binary_error: 0.041305\n",
            "[07:18:30] [400]\tvalid's binary_error: 0.0390647\n",
            "[07:18:30] [500]\tvalid's binary_error: 0.0399048\n",
            "[07:18:30] [600]\tvalid's binary_error: 0.0393447\n",
            "[07:18:31] [700]\tvalid's binary_error: 0.0387847\n",
            "[07:18:31] [800]\tvalid's binary_error: 0.0382246\n",
            "[07:18:31] [900]\tvalid's binary_error: 0.0378045\n",
            "[07:18:31] [1000]\tvalid's binary_error: 0.0378045\n",
            "[07:18:31] [1100]\tvalid's binary_error: 0.0373845\n",
            "[07:18:31] [1200]\tvalid's binary_error: 0.0371045\n",
            "[07:18:31] Did not meet early stopping. Best iteration is:\n",
            "[1050]\tvalid's binary_error: 0.0371045\n",
            "[07:18:31] ===== Start working with \u001b[1mfold 1\u001b[0m for \u001b[1mLvl_0_Pipe_0_Mod_0_LightGBM\u001b[0m =====\n",
            "[07:18:31] Training until validation scores don't improve for 200 rounds\n",
            "[07:18:32] [100]\tvalid's binary_error: 0.041725\n",
            "[07:18:32] [200]\tvalid's binary_error: 0.0365444\n",
            "[07:18:32] [300]\tvalid's binary_error: 0.0359843\n",
            "[07:18:32] [400]\tvalid's binary_error: 0.0350042\n",
            "[07:18:32] [500]\tvalid's binary_error: 0.0347242\n",
            "[07:18:32] [600]\tvalid's binary_error: 0.033604\n",
            "[07:18:33] [700]\tvalid's binary_error: 0.033464\n",
            "[07:18:33] [800]\tvalid's binary_error: 0.033044\n",
            "[07:18:33] [900]\tvalid's binary_error: 0.0324839\n",
            "[07:18:33] [1000]\tvalid's binary_error: 0.0322039\n",
            "[07:18:33] [1100]\tvalid's binary_error: 0.0322039\n",
            "[07:18:33] [1200]\tvalid's binary_error: 0.0322039\n",
            "[07:18:33] Did not meet early stopping. Best iteration is:\n",
            "[1022]\tvalid's binary_error: 0.0317838\n",
            "[07:18:33] ===== Start working with \u001b[1mfold 2\u001b[0m for \u001b[1mLvl_0_Pipe_0_Mod_0_LightGBM\u001b[0m =====\n",
            "[07:18:33] Training until validation scores don't improve for 200 rounds\n",
            "[07:18:34] [100]\tvalid's binary_error: 0.0462055\n",
            "[07:18:34] [200]\tvalid's binary_error: 0.041725\n",
            "[07:18:34] [300]\tvalid's binary_error: 0.0399048\n",
            "[07:18:34] [400]\tvalid's binary_error: 0.0393447\n",
            "[07:18:34] [500]\tvalid's binary_error: 0.0387847\n",
            "[07:18:34] [600]\tvalid's binary_error: 0.0392047\n",
            "[07:18:34] Early stopping, best iteration is:\n",
            "[426]\tvalid's binary_error: 0.0386446\n",
            "[07:18:35] ===== Start working with \u001b[1mfold 3\u001b[0m for \u001b[1mLvl_0_Pipe_0_Mod_0_LightGBM\u001b[0m =====\n",
            "[07:18:35] Training until validation scores don't improve for 200 rounds\n",
            "[07:18:35] [100]\tvalid's binary_error: 0.0477457\n",
            "[07:18:35] [200]\tvalid's binary_error: 0.0431252\n",
            "[07:18:35] [300]\tvalid's binary_error: 0.0408849\n",
            "[07:18:35] [400]\tvalid's binary_error: 0.0410249\n",
            "[07:18:35] [500]\tvalid's binary_error: 0.0400448\n",
            "[07:18:35] [600]\tvalid's binary_error: 0.0396248\n",
            "[07:18:36] [700]\tvalid's binary_error: 0.0387847\n",
            "[07:18:36] [800]\tvalid's binary_error: 0.0383646\n",
            "[07:18:36] [900]\tvalid's binary_error: 0.0378045\n",
            "[07:18:36] [1000]\tvalid's binary_error: 0.0379446\n",
            "[07:18:36] [1100]\tvalid's binary_error: 0.0380846\n",
            "[07:18:36] [1200]\tvalid's binary_error: 0.0376645\n",
            "[07:18:36] Did not meet early stopping. Best iteration is:\n",
            "[1114]\tvalid's binary_error: 0.0371045\n",
            "[07:18:37] ===== Start working with \u001b[1mfold 4\u001b[0m for \u001b[1mLvl_0_Pipe_0_Mod_0_LightGBM\u001b[0m =====\n",
            "[07:18:37] Training until validation scores don't improve for 200 rounds\n",
            "[07:18:37] [100]\tvalid's binary_error: 0.0487258\n",
            "[07:18:37] [200]\tvalid's binary_error: 0.0429852\n",
            "[07:18:37] [300]\tvalid's binary_error: 0.0408849\n",
            "[07:18:37] [400]\tvalid's binary_error: 0.0399048\n",
            "[07:18:37] [500]\tvalid's binary_error: 0.0390647\n",
            "[07:18:38] [600]\tvalid's binary_error: 0.0386446\n",
            "[07:18:38] [700]\tvalid's binary_error: 0.0383646\n",
            "[07:18:38] [800]\tvalid's binary_error: 0.0385046\n",
            "[07:18:38] Early stopping, best iteration is:\n",
            "[653]\tvalid's binary_error: 0.0376645\n",
            "[07:18:38] Fitting \u001b[1mLvl_0_Pipe_0_Mod_0_LightGBM\u001b[0m finished. score = \u001b[1m0.9635396247549706\u001b[0m\n",
            "[07:18:38] \u001b[1mLvl_0_Pipe_0_Mod_0_LightGBM\u001b[0m fitting and predicting completed\n",
            "[07:18:38] Time left 10787.69 secs\n",
            "\n",
            "[07:18:38] \u001b[1mLayer 1 training completed.\u001b[0m\n",
            "\n",
            "[07:18:38] \u001b[1mAutoml preset training completed in 12.31 seconds\u001b[0m\n",
            "\n",
            "[07:18:38] Model description:\n",
            "Final prediction for new objects (level 0) = \n",
            "\t 1.00000 * (5 averaged models Lvl_0_Pipe_0_Mod_0_LightGBM) \n",
            "\n"
          ]
        }
      ],
      "source": [
        "# запускаем обучение на данных и подбор оптимальных параметров\n",
        "# из ансамбля моделей\n",
        "oof_pred = automl.fit_predict(tr_data, roles = roles, verbose=4)"
      ]
    },
    {
      "cell_type": "markdown",
      "metadata": {},
      "source": [
        "Тут некоторая тонкость использования метдов **automl.fit_predict()** и **automl.predict()**.\n",
        "\n",
        "Когда automl обучает модели методом **fit_predict()** это происходит с помощью кросс валидации (в нашем случае на 5 подвыборках из обучающей выборки). \n",
        "\n",
        "В процессе этого **automl** будет собирать статистику по фолдам, которые в данный момент являются валидационными и записывать ее.\n",
        "\n",
        "Поэтому и предсказанные значения по валидационным фолдам и полученные по ней метрики будут получены из метода automl.fit_predict(обучающая_выборка).\n",
        "\n",
        "automl.predict(данные) использует уже готовый полученный ансамбль моделей МЛ, некакого разбиения на подвыборки тут нет. Его праивльно использовать на тестовой выборке, - тех данных которые не участвовали при обучени модели.\n",
        "\n",
        "Предсказывать на automl.predict(обучающая_выборка) не правильно, таким образом мы померим метрику на тех данных на которых учили модель. А правильно делать это только на валлидационых фолдах при кросс валидации."
      ]
    },
    {
      "cell_type": "markdown",
      "metadata": {},
      "source": [
        "### Сохраним полученный ансамбль моделей в файл"
      ]
    },
    {
      "cell_type": "code",
      "execution_count": 20,
      "metadata": {},
      "outputs": [],
      "source": [
        "model_path = 'model/lightautoml_model_1.pkl'\n",
        "oof_pred_path = 'model/lightautoml_model_1_oof_pred_1.pkl'"
      ]
    },
    {
      "cell_type": "code",
      "execution_count": 21,
      "metadata": {},
      "outputs": [
        {
          "data": {
            "text/plain": [
              "['model/lightautoml_model_1_oof_pred_1.pkl']"
            ]
          },
          "execution_count": 21,
          "metadata": {},
          "output_type": "execute_result"
        }
      ],
      "source": [
        "# сохраним полученный ансамбль моделей и его предсказания на тестовой выборке\n",
        "joblib.dump(automl, model_path)\n",
        "joblib.dump(oof_pred, oof_pred_path)"
      ]
    },
    {
      "cell_type": "markdown",
      "metadata": {},
      "source": [
        "### Загрузим сохраненую ранее модель из файла"
      ]
    },
    {
      "cell_type": "code",
      "execution_count": 22,
      "metadata": {},
      "outputs": [],
      "source": [
        "porog = 0.5"
      ]
    },
    {
      "cell_type": "code",
      "execution_count": 23,
      "metadata": {},
      "outputs": [],
      "source": [
        "automl = joblib.load(model_path)\n",
        "oof_pred = joblib.load(oof_pred_path)"
      ]
    },
    {
      "cell_type": "code",
      "execution_count": 24,
      "metadata": {},
      "outputs": [],
      "source": [
        "# проверка полученного ансамбля на валидационной выборке\n",
        "valid_pred = automl.predict(valid_data)"
      ]
    },
    {
      "cell_type": "code",
      "execution_count": 25,
      "metadata": {},
      "outputs": [
        {
          "data": {
            "text/plain": [
              "array([0, 0, 0, ..., 1, 0, 1])"
            ]
          },
          "execution_count": 25,
          "metadata": {},
          "output_type": "execute_result"
        }
      ],
      "source": [
        "valid_pred = (valid_pred.data[:, 0] > porog).astype(int)\n",
        "valid_pred"
      ]
    },
    {
      "cell_type": "code",
      "execution_count": 26,
      "metadata": {},
      "outputs": [
        {
          "data": {
            "text/plain": [
              "(array([0, 1]), array([6529, 2399]))"
            ]
          },
          "execution_count": 26,
          "metadata": {},
          "output_type": "execute_result"
        }
      ],
      "source": [
        "np.unique(valid_pred, return_counts=True)"
      ]
    },
    {
      "cell_type": "code",
      "execution_count": 27,
      "metadata": {},
      "outputs": [
        {
          "data": {
            "text/plain": [
              "array([0, 0, 0, ..., 1, 0, 1])"
            ]
          },
          "execution_count": 27,
          "metadata": {},
          "output_type": "execute_result"
        }
      ],
      "source": [
        "valid_y_true = valid_data['is_canceled'].values\n",
        "valid_y_true"
      ]
    },
    {
      "cell_type": "code",
      "execution_count": 28,
      "metadata": {},
      "outputs": [
        {
          "data": {
            "text/plain": [
              "(array([0, 1]), array([6271, 2657]))"
            ]
          },
          "execution_count": 28,
          "metadata": {},
          "output_type": "execute_result"
        }
      ],
      "source": [
        "np.unique(valid_y_true, return_counts=True)"
      ]
    },
    {
      "cell_type": "code",
      "execution_count": 29,
      "metadata": {},
      "outputs": [],
      "source": [
        "# соберем данные для оценки метрик по фолдам кросс валидации\n",
        "cross_val_train_y_true = tr_data['is_canceled'].values\n",
        "cross_val_train_pred = (oof_pred.data[:, 0] > porog).astype(int)"
      ]
    },
    {
      "cell_type": "code",
      "execution_count": 30,
      "metadata": {},
      "outputs": [
        {
          "name": "stdout",
          "output_type": "stream",
          "text": [
            "Кросс валидация accuracy_score: 0.9635396247549706\n",
            "Валидационная выборка accuracy_score: 0.9652777777777778\n",
            "Кросс валидация precision_score: 0.9790403780951402\n",
            "Валидационная выборка  precision_score: 0.9891621508962067\n",
            "Кросс валидация precision_score: 0.8966782723252094\n",
            "Валидационная выборка precision_score: 0.8931125329318781\n"
          ]
        }
      ],
      "source": [
        "# оценка полученной метрики на валидационном наборе данных\n",
        "from sklearn.metrics import accuracy_score, precision_score, recall_score\n",
        "\n",
        "print(f\"Кросс валидация accuracy_score: {accuracy_score(cross_val_train_y_true, cross_val_train_pred)}\")\n",
        "print(f\"Валидационная выборка accuracy_score: {accuracy_score(valid_y_true, valid_pred)}\")\n",
        "\n",
        "print(f\"Кросс валидация precision_score: {precision_score(cross_val_train_y_true, cross_val_train_pred)}\")\n",
        "print(f\"Валидационная выборка  precision_score: {precision_score(valid_y_true, valid_pred)}\")\n",
        "\n",
        "print(f\"Кросс валидация precision_score: {recall_score(cross_val_train_y_true, cross_val_train_pred)}\")\n",
        "print(f\"Валидационная выборка precision_score: {recall_score(valid_y_true, valid_pred)}\")"
      ]
    },
    {
      "cell_type": "markdown",
      "metadata": {},
      "source": [
        "## Обучение модели на всей обучающей выборке и предсказание на тестовых данных"
      ]
    },
    {
      "cell_type": "markdown",
      "metadata": {},
      "source": [
        "Мы подобрали параметры обучения убедились что они работают хорошо по кросс валидации по 5 фолдам на 80% обучающей выборки.\n",
        "И протестировали наш алгоритм на 20% валидационной выборки.\n",
        "\n",
        "Теперь мы используя все подобранные параметры и настройки просто обучим алгоритм МЛ на кросс валидации по 5 фолдам, но уже на всей обучающей выборке. \n",
        "\n",
        "Согласно лучшим практикам встречающимся на kaggle это дает дополнительный прирост к точности за счет расширения выборки обучающих данных для модели. Контроль метрик и ранней остановки обучения идет по метрикам на валидационной выборке каждого фола из кросс валидации.\n",
        "И является распространенной практикой используемой при работе с LightAutoML от Сбера (ссылка на туториалы https://github.com/sb-ai-lab/LightAutoML#google-colab-tutorials-and-other-examples)."
      ]
    },
    {
      "cell_type": "code",
      "execution_count": 31,
      "metadata": {},
      "outputs": [],
      "source": [
        "# https://lightautoml.readthedocs.io/en/latest/python_api/generated/lightautoml.tasks.base.Task.html#lightautoml.tasks.base.Task\n",
        "task = Task('binary', loss= 'logloss', metric = 'accuracy')"
      ]
    },
    {
      "cell_type": "code",
      "execution_count": 32,
      "metadata": {},
      "outputs": [],
      "source": [
        "roles = {'target': 'is_canceled',\n",
        "         'numeric': numeric_features,\n",
        "         'category': category_features\n",
        "         }"
      ]
    },
    {
      "cell_type": "code",
      "execution_count": 33,
      "metadata": {},
      "outputs": [],
      "source": [
        "# Эксперименты показали, что в итоговой блендинг модели наибольший вклад\n",
        "# около 95% имеет модель градиентного бустинга lgb.\n",
        "# Вклад Логистической регрессии с l2-регуляризацией менее 1%.\n",
        "# Вклад градиентного бустинга CatBoost составил 5%.\n",
        "# В итоговом решении я оставил только эту модель.\n",
        "automl = TabularAutoML(task = task, \n",
        "                    timeout = 3600 * 3, # 3600 секунд = 1 час\n",
        "                    general_params = {'use_algos': [['lgb']]},\n",
        "                    reader_params = {'n_jobs': 12},\n",
        "                    timing_params ={'mode': 0}\n",
        "                    )"
      ]
    },
    {
      "cell_type": "code",
      "execution_count": 34,
      "metadata": {},
      "outputs": [
        {
          "name": "stdout",
          "output_type": "stream",
          "text": [
            "[07:18:41] Stdout logging level is DEBUG.\n",
            "[07:18:41] Task: binary\n",
            "\n",
            "[07:18:41] Start automl preset with listed constraints:\n",
            "[07:18:41] - time: 10800.00 seconds\n",
            "[07:18:41] - CPU: 4 cores\n",
            "[07:18:41] - memory: 16 GB\n",
            "\n",
            "[07:18:41] \u001b[1mTrain data shape: (44638, 29)\u001b[0m\n",
            "\n",
            "[07:18:42] Feats was rejected during automatic roles guess: []\n",
            "[07:18:42] Layer \u001b[1m1\u001b[0m train process start. Time left 10799.48 secs\n",
            "[07:18:42] Training until validation scores don't improve for 200 rounds\n",
            "[07:18:42] [100]\tvalid's binary_error: 0.078405\n",
            "[07:18:42] [200]\tvalid's binary_error: 0.0510753\n",
            "[07:18:43] [300]\tvalid's binary_error: 0.0422267\n",
            "[07:18:43] [400]\tvalid's binary_error: 0.0386425\n",
            "[07:18:43] [500]\tvalid's binary_error: 0.0350582\n",
            "[07:18:43] [600]\tvalid's binary_error: 0.03181\n",
            "[07:18:43] [700]\tvalid's binary_error: 0.0290099\n",
            "[07:18:43] [800]\tvalid's binary_error: 0.0278898\n",
            "[07:18:44] [900]\tvalid's binary_error: 0.0267697\n",
            "[07:18:44] [1000]\tvalid's binary_error: 0.0254256\n",
            "[07:18:44] [1100]\tvalid's binary_error: 0.0253136\n",
            "[07:18:44] [1200]\tvalid's binary_error: 0.0243056\n",
            "[07:18:44] Did not meet early stopping. Best iteration is:\n",
            "[1167]\tvalid's binary_error: 0.0243056\n",
            "[07:18:44] \u001b[1mSelector_LightGBM\u001b[0m fitting and predicting completed\n",
            "[07:18:45] Start fitting \u001b[1mLvl_0_Pipe_0_Mod_0_LightGBM\u001b[0m ...\n",
            "[07:18:45] Training params: {'task': 'train', 'learning_rate': 0.03, 'num_leaves': 32, 'feature_fraction': 0.7, 'bagging_fraction': 0.7, 'bagging_freq': 1, 'max_depth': -1, 'verbosity': -1, 'reg_alpha': 0.0, 'reg_lambda': 0.0, 'min_split_gain': 0.0, 'zero_as_missing': False, 'num_threads': 4, 'max_bin': 255, 'min_data_in_bin': 3, 'num_trees': 1200, 'early_stopping_rounds': 200, 'random_state': 42}\n",
            "[07:18:45] ===== Start working with \u001b[1mfold 0\u001b[0m for \u001b[1mLvl_0_Pipe_0_Mod_0_LightGBM\u001b[0m =====\n",
            "[07:18:45] Training until validation scores don't improve for 200 rounds\n",
            "[07:18:45] [100]\tvalid's binary_error: 0.0413306\n",
            "[07:18:45] [200]\tvalid's binary_error: 0.0376344\n",
            "[07:18:46] [300]\tvalid's binary_error: 0.0361783\n",
            "[07:18:46] [400]\tvalid's binary_error: 0.0349462\n",
            "[07:18:46] [500]\tvalid's binary_error: 0.0336022\n",
            "[07:18:46] [600]\tvalid's binary_error: 0.0340502\n",
            "[07:18:46] [700]\tvalid's binary_error: 0.0331541\n",
            "[07:18:47] [800]\tvalid's binary_error: 0.0329301\n",
            "[07:18:47] [900]\tvalid's binary_error: 0.0323701\n",
            "[07:18:47] [1000]\tvalid's binary_error: 0.0324821\n",
            "[07:18:47] [1100]\tvalid's binary_error: 0.0323701\n",
            "[07:18:47] [1200]\tvalid's binary_error: 0.0320341\n",
            "[07:18:47] Did not meet early stopping. Best iteration is:\n",
            "[1146]\tvalid's binary_error: 0.031586\n",
            "[07:18:47] ===== Start working with \u001b[1mfold 1\u001b[0m for \u001b[1mLvl_0_Pipe_0_Mod_0_LightGBM\u001b[0m =====\n",
            "[07:18:47] Training until validation scores don't improve for 200 rounds\n",
            "[07:18:48] [100]\tvalid's binary_error: 0.046147\n",
            "[07:18:48] [200]\tvalid's binary_error: 0.0417787\n",
            "[07:18:48] [300]\tvalid's binary_error: 0.0403226\n",
            "[07:18:48] [400]\tvalid's binary_error: 0.0386425\n",
            "[07:18:48] [500]\tvalid's binary_error: 0.0378584\n",
            "[07:18:49] [600]\tvalid's binary_error: 0.0384185\n",
            "[07:18:49] Early stopping, best iteration is:\n",
            "[493]\tvalid's binary_error: 0.0377464\n",
            "[07:18:49] ===== Start working with \u001b[1mfold 2\u001b[0m for \u001b[1mLvl_0_Pipe_0_Mod_0_LightGBM\u001b[0m =====\n",
            "[07:18:49] Training until validation scores don't improve for 200 rounds\n",
            "[07:18:49] [100]\tvalid's binary_error: 0.0456989\n",
            "[07:18:49] [200]\tvalid's binary_error: 0.0433468\n",
            "[07:18:49] [300]\tvalid's binary_error: 0.0405466\n",
            "[07:18:50] [400]\tvalid's binary_error: 0.0388665\n",
            "[07:18:50] [500]\tvalid's binary_error: 0.0380824\n",
            "[07:18:50] [600]\tvalid's binary_error: 0.0375224\n",
            "[07:18:50] [700]\tvalid's binary_error: 0.0370744\n",
            "[07:18:50] [800]\tvalid's binary_error: 0.0368504\n",
            "[07:18:50] [900]\tvalid's binary_error: 0.0366263\n",
            "[07:18:51] [1000]\tvalid's binary_error: 0.0365143\n",
            "[07:18:51] [1100]\tvalid's binary_error: 0.0360663\n",
            "[07:18:51] [1200]\tvalid's binary_error: 0.0364023\n",
            "[07:18:51] Did not meet early stopping. Best iteration is:\n",
            "[1073]\tvalid's binary_error: 0.0358423\n",
            "[07:18:51] ===== Start working with \u001b[1mfold 3\u001b[0m for \u001b[1mLvl_0_Pipe_0_Mod_0_LightGBM\u001b[0m =====\n",
            "[07:18:51] Training until validation scores don't improve for 200 rounds\n",
            "[07:18:51] [100]\tvalid's binary_error: 0.0481685\n",
            "[07:18:52] [200]\tvalid's binary_error: 0.0439117\n",
            "[07:18:52] [300]\tvalid's binary_error: 0.0409992\n",
            "[07:18:52] [400]\tvalid's binary_error: 0.0390949\n",
            "[07:18:52] [500]\tvalid's binary_error: 0.0389829\n",
            "[07:18:52] [600]\tvalid's binary_error: 0.0381987\n",
            "[07:18:52] [700]\tvalid's binary_error: 0.0378627\n",
            "[07:18:53] [800]\tvalid's binary_error: 0.0376386\n",
            "[07:18:53] [900]\tvalid's binary_error: 0.0373026\n",
            "[07:18:53] [1000]\tvalid's binary_error: 0.0374146\n",
            "[07:18:53] Early stopping, best iteration is:\n",
            "[866]\tvalid's binary_error: 0.0368545\n",
            "[07:18:53] ===== Start working with \u001b[1mfold 4\u001b[0m for \u001b[1mLvl_0_Pipe_0_Mod_0_LightGBM\u001b[0m =====\n",
            "[07:18:53] Training until validation scores don't improve for 200 rounds\n",
            "[07:18:53] [100]\tvalid's binary_error: 0.0439117\n",
            "[07:18:54] [200]\tvalid's binary_error: 0.039767\n",
            "[07:18:54] [300]\tvalid's binary_error: 0.0378627\n",
            "[07:18:54] [400]\tvalid's binary_error: 0.0361824\n",
            "[07:18:54] [500]\tvalid's binary_error: 0.0350622\n",
            "[07:18:54] [600]\tvalid's binary_error: 0.0348381\n",
            "[07:18:55] [700]\tvalid's binary_error: 0.0346141\n",
            "[07:18:55] [800]\tvalid's binary_error: 0.0346141\n",
            "[07:18:55] [900]\tvalid's binary_error: 0.0348381\n",
            "[07:18:55] Early stopping, best iteration is:\n",
            "[792]\tvalid's binary_error: 0.034166\n",
            "[07:18:55] Fitting \u001b[1mLvl_0_Pipe_0_Mod_0_LightGBM\u001b[0m finished. score = \u001b[1m0.9647609659931\u001b[0m\n",
            "[07:18:55] \u001b[1mLvl_0_Pipe_0_Mod_0_LightGBM\u001b[0m fitting and predicting completed\n",
            "[07:18:55] Time left 10786.31 secs\n",
            "\n",
            "[07:18:55] \u001b[1mLayer 1 training completed.\u001b[0m\n",
            "\n",
            "[07:18:55] \u001b[1mAutoml preset training completed in 13.69 seconds\u001b[0m\n",
            "\n",
            "[07:18:55] Model description:\n",
            "Final prediction for new objects (level 0) = \n",
            "\t 1.00000 * (5 averaged models Lvl_0_Pipe_0_Mod_0_LightGBM) \n",
            "\n"
          ]
        }
      ],
      "source": [
        "# обучение этим подходом на всех имеющиеся обучающих данных\n",
        "oof_pred = automl.fit_predict(train, roles = roles, verbose=4)"
      ]
    },
    {
      "cell_type": "markdown",
      "metadata": {},
      "source": [
        "### Сохраним полученный ансамбль моделей в файл"
      ]
    },
    {
      "cell_type": "code",
      "execution_count": 35,
      "metadata": {},
      "outputs": [],
      "source": [
        "model_path = 'model/lightautoml_model_1_final.pkl'\n",
        "oof_pred_path = 'model/lightautoml_model_1_oof_pred_final.pkl'"
      ]
    },
    {
      "cell_type": "code",
      "execution_count": 36,
      "metadata": {},
      "outputs": [
        {
          "data": {
            "text/plain": [
              "['model/lightautoml_model_1_oof_pred_final.pkl']"
            ]
          },
          "execution_count": 36,
          "metadata": {},
          "output_type": "execute_result"
        }
      ],
      "source": [
        "# сохраним полученный ансамбль моделей и его предсказания на тестовой выборке\n",
        "joblib.dump(automl, model_path)\n",
        "joblib.dump(oof_pred, oof_pred_path) "
      ]
    },
    {
      "cell_type": "markdown",
      "metadata": {},
      "source": [
        "### Загрузим сохраненую ранее модель из файла"
      ]
    },
    {
      "cell_type": "code",
      "execution_count": 37,
      "metadata": {},
      "outputs": [],
      "source": [
        "automl = joblib.load(model_path)\n",
        "oof_pred = joblib.load(oof_pred_path)"
      ]
    },
    {
      "cell_type": "code",
      "execution_count": 39,
      "metadata": {},
      "outputs": [
        {
          "name": "stdout",
          "output_type": "stream",
          "text": [
            "Кросс валидация(вся выборка) accuracy_score: 0.9647609659931\n"
          ]
        }
      ],
      "source": [
        "# оценка полученной метрики на всем наборе данных\n",
        "# теперь мы можем оценить полученные метрики только по кросс валидации\n",
        "cross_val_train_y_true = train['is_canceled'].values\n",
        "cross_val_train_pred = (oof_pred.data[:, 0] > porog).astype(int)\n",
        "\n",
        "metric = accuracy_score(cross_val_train_y_true, cross_val_train_pred)\n",
        "print(f\"Кросс валидация(вся выборка) accuracy_score: {metric}\")\n"
      ]
    },
    {
      "cell_type": "code",
      "execution_count": null,
      "metadata": {
        "colab": {
          "base_uri": "https://localhost:8080/"
        },
        "id": "ZI2Xkil8QLS6",
        "outputId": "158c5306-7c5d-4b53-f8be-cc57a84eef98"
      },
      "outputs": [],
      "source": [
        "from sklearn.metrics import accuracy_score, precision_score, recall_score\n",
        "\n",
        "# answers_pred - ответы которые вернула модель для X_test\n",
        "# y_test - это правильные ответы для X_test\n",
        "print(f'Accuracy: {accuracy_score(y, answers_pred)}')\n",
        "print(f'Precision: {precision_score(y, answers_pred)}')\n",
        "print(f'Recall: {recall_score(y, answers_pred)}')"
      ]
    },
    {
      "cell_type": "code",
      "execution_count": null,
      "metadata": {
        "colab": {
          "base_uri": "https://localhost:8080/",
          "height": 340
        },
        "id": "4RJ4XcNmh_E7",
        "outputId": "b49de624-9441-4129-ab86-b148e99ab2a4"
      },
      "outputs": [],
      "source": [
        "from sklearn.metrics import plot_confusion_matrix, confusion_matrix\n",
        "\n",
        "plot_confusion_matrix(model, X, y)  \n",
        "plt.show()"
      ]
    },
    {
      "cell_type": "markdown",
      "metadata": {
        "id": "koVlQwT9kdMU"
      },
      "source": [
        "## Предсказание ответа для тестового набора данных"
      ]
    },
    {
      "cell_type": "code",
      "execution_count": 41,
      "metadata": {
        "id": "BA3CxJ1nkfkJ"
      },
      "outputs": [],
      "source": [
        "# предсказание ансамблем моделей на тестовых данных\n",
        "test_pred = automl.predict(test)"
      ]
    },
    {
      "cell_type": "markdown",
      "metadata": {},
      "source": [
        "### Сделаем файл sabmita"
      ]
    },
    {
      "cell_type": "code",
      "execution_count": 45,
      "metadata": {},
      "outputs": [],
      "source": [
        "submission_path = 'submission/lightautoml_model_final_submission.csv'"
      ]
    },
    {
      "cell_type": "code",
      "execution_count": 46,
      "metadata": {},
      "outputs": [
        {
          "data": {
            "text/plain": [
              "array([1, 0, 1, ..., 0, 1, 0])"
            ]
          },
          "execution_count": 46,
          "metadata": {},
          "output_type": "execute_result"
        }
      ],
      "source": [
        "y_pred_test = (test_pred.data[:, 0] > porog).astype(int)\n",
        "y_pred_test"
      ]
    },
    {
      "cell_type": "code",
      "execution_count": 47,
      "metadata": {
        "colab": {
          "base_uri": "https://localhost:8080/",
          "height": 17
        },
        "id": "tBObQdM4kh6c",
        "outputId": "81033b22-c404-4cde-f4fa-7a9d3d27a070"
      },
      "outputs": [],
      "source": [
        "y_pred_test = pd.DataFrame(y_pred_test, columns=['is_canceled'])\n",
        "y_pred_test = y_pred_test.reset_index()\n",
        "\n",
        "y_pred_test.to_csv(submission_path, index=False)"
      ]
    }
  ],
  "metadata": {
    "colab": {
      "name": "Samsung. Baseline. Спрос на бронирование отелей.ipynb",
      "provenance": []
    },
    "kernelspec": {
      "display_name": "Python 3.9.12 ('sber_lama')",
      "language": "python",
      "name": "python3"
    },
    "language_info": {
      "codemirror_mode": {
        "name": "ipython",
        "version": 3
      },
      "file_extension": ".py",
      "mimetype": "text/x-python",
      "name": "python",
      "nbconvert_exporter": "python",
      "pygments_lexer": "ipython3",
      "version": "3.9.12"
    },
    "vscode": {
      "interpreter": {
        "hash": "901158d8cd2db934fb9192b2a062c20c24f00bed87efea9fcd6e00355046a3d1"
      }
    }
  },
  "nbformat": 4,
  "nbformat_minor": 0
}
